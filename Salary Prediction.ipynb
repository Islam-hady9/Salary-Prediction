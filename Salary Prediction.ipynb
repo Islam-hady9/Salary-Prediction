{
 "cells": [
  {
   "cell_type": "code",
   "execution_count": 27,
   "id": "580fec63",
   "metadata": {},
   "outputs": [],
   "source": [
    "#Required Libraries\n",
    "import math, copy\n",
    "import numpy as np  \n",
    "import pandas as pd\n",
    "import matplotlib.pyplot as plt"
   ]
  },
  {
   "cell_type": "code",
   "execution_count": 28,
   "id": "c622ec33",
   "metadata": {},
   "outputs": [],
   "source": [
    "#Read train dataset\n",
    "train_data = pd.read_csv(r'D:\\Machine Learning\\Projects\\Salary Prediction\\Dataset\\Salary Data.csv')"
   ]
  },
  {
   "cell_type": "code",
   "execution_count": 29,
   "id": "599f7088",
   "metadata": {},
   "outputs": [
    {
     "data": {
      "text/html": [
       "<div>\n",
       "<style scoped>\n",
       "    .dataframe tbody tr th:only-of-type {\n",
       "        vertical-align: middle;\n",
       "    }\n",
       "\n",
       "    .dataframe tbody tr th {\n",
       "        vertical-align: top;\n",
       "    }\n",
       "\n",
       "    .dataframe thead th {\n",
       "        text-align: right;\n",
       "    }\n",
       "</style>\n",
       "<table border=\"1\" class=\"dataframe\">\n",
       "  <thead>\n",
       "    <tr style=\"text-align: right;\">\n",
       "      <th></th>\n",
       "      <th>YearsExperience</th>\n",
       "      <th>Salary</th>\n",
       "    </tr>\n",
       "  </thead>\n",
       "  <tbody>\n",
       "    <tr>\n",
       "      <th>0</th>\n",
       "      <td>1.1</td>\n",
       "      <td>39343.0</td>\n",
       "    </tr>\n",
       "    <tr>\n",
       "      <th>1</th>\n",
       "      <td>1.3</td>\n",
       "      <td>46205.0</td>\n",
       "    </tr>\n",
       "    <tr>\n",
       "      <th>2</th>\n",
       "      <td>1.5</td>\n",
       "      <td>37731.0</td>\n",
       "    </tr>\n",
       "    <tr>\n",
       "      <th>3</th>\n",
       "      <td>2.0</td>\n",
       "      <td>43525.0</td>\n",
       "    </tr>\n",
       "    <tr>\n",
       "      <th>4</th>\n",
       "      <td>2.2</td>\n",
       "      <td>39891.0</td>\n",
       "    </tr>\n",
       "    <tr>\n",
       "      <th>5</th>\n",
       "      <td>2.9</td>\n",
       "      <td>56642.0</td>\n",
       "    </tr>\n",
       "    <tr>\n",
       "      <th>6</th>\n",
       "      <td>3.0</td>\n",
       "      <td>60150.0</td>\n",
       "    </tr>\n",
       "    <tr>\n",
       "      <th>7</th>\n",
       "      <td>3.2</td>\n",
       "      <td>54445.0</td>\n",
       "    </tr>\n",
       "    <tr>\n",
       "      <th>8</th>\n",
       "      <td>3.2</td>\n",
       "      <td>64445.0</td>\n",
       "    </tr>\n",
       "    <tr>\n",
       "      <th>9</th>\n",
       "      <td>3.7</td>\n",
       "      <td>57189.0</td>\n",
       "    </tr>\n",
       "  </tbody>\n",
       "</table>\n",
       "</div>"
      ],
      "text/plain": [
       "   YearsExperience   Salary\n",
       "0              1.1  39343.0\n",
       "1              1.3  46205.0\n",
       "2              1.5  37731.0\n",
       "3              2.0  43525.0\n",
       "4              2.2  39891.0\n",
       "5              2.9  56642.0\n",
       "6              3.0  60150.0\n",
       "7              3.2  54445.0\n",
       "8              3.2  64445.0\n",
       "9              3.7  57189.0"
      ]
     },
     "execution_count": 29,
     "metadata": {},
     "output_type": "execute_result"
    }
   ],
   "source": [
    "train_data.head(10)"
   ]
  },
  {
   "cell_type": "code",
   "execution_count": 30,
   "id": "48c676d2",
   "metadata": {},
   "outputs": [
    {
     "name": "stdout",
     "output_type": "stream",
     "text": [
      "(30,)\n",
      "(30,)\n"
     ]
    }
   ],
   "source": [
    "# train data\n",
    "x_train = train_data['YearsExperience'].values\n",
    "y_train = train_data['Salary'].values\n",
    "\n",
    "# test data\n",
    "x_test = np.array([1.2, 1.6, 1.9, 2.3])\n",
    "\n",
    "#print(x_train)\n",
    "#print(x_test)\n",
    "print(x_train.shape)\n",
    "print(y_train.shape)"
   ]
  },
  {
   "cell_type": "code",
   "execution_count": 31,
   "id": "ff52707b",
   "metadata": {},
   "outputs": [
    {
     "data": {
      "image/png": "[encoded data removed]",
      "text/plain": [
       "<Figure size 800x600 with 1 Axes>"
      ]
     },
     "metadata": {},
     "output_type": "display_data"
    }
   ],
   "source": [
    "#Visualization the train data\n",
    "\n",
    "plt.figure(figsize=(8,6))\n",
    "plt.title('Data distribution')\n",
    "plt.scatter(x_train, y_train)\n",
    "plt.xlabel('YearsExperience')\n",
    "plt.ylabel('Salary')\n",
    "plt.show()"
   ]
  },
  {
   "cell_type": "code",
   "execution_count": 32,
   "id": "8a66de54",
   "metadata": {},
   "outputs": [],
   "source": [
    "#Function to calculate the cost\n",
    "def compute_cost(x, y, w, b):\n",
    "   \n",
    "    m = x.shape[0] \n",
    "    cost = 0\n",
    "    \n",
    "    for i in range(m):\n",
    "        f_wb = w * x[i] + b\n",
    "        cost = cost + (f_wb - y[i])**2\n",
    "    total_cost = 1 / (2 * m) * cost\n",
    "\n",
    "    return total_cost"
   ]
  },
  {
   "cell_type": "code",
   "execution_count": 33,
   "id": "c47ceb82",
   "metadata": {},
   "outputs": [],
   "source": [
    "def compute_gradient(x, y, w, b): \n",
    "    # Number of training examples\n",
    "    m = x.shape[0]    \n",
    "    dj_dw = 0\n",
    "    dj_db = 0\n",
    "    \n",
    "    for i in range(m):  \n",
    "        f_wb = w * x[i] + b \n",
    "        dj_dw_i = (f_wb - y[i]) * x[i] \n",
    "        dj_db_i = f_wb - y[i] \n",
    "        dj_db += dj_db_i\n",
    "        dj_dw += dj_dw_i \n",
    "    dj_dw = dj_dw / m \n",
    "    dj_db = dj_db / m \n",
    "        \n",
    "    return dj_dw, dj_db"
   ]
  },
  {
   "cell_type": "code",
   "execution_count": 34,
   "id": "46f96c92",
   "metadata": {},
   "outputs": [],
   "source": [
    "def gradient_descent(x, y, w_in, b_in, alpha, num_iters, cost_function, gradient_function): \n",
    "    # An array to store cost J and w's at each iteration primarily for graphing later\n",
    "    J_history = []\n",
    "    p_history = []\n",
    "    b = b_in\n",
    "    w = w_in\n",
    "    \n",
    "    for i in range(num_iters):\n",
    "        # Calculate the gradient and update the parameters using gradient_function\n",
    "        dj_dw, dj_db = gradient_function(x, y, w , b)     \n",
    "\n",
    "        # Update Parameters using equation (3) above\n",
    "        b = b - alpha * dj_db                            \n",
    "        w = w - alpha * dj_dw                            \n",
    "\n",
    "        # Save cost J at each iteration\n",
    "        if i<100000:      # prevent resource exhaustion \n",
    "            J_history.append(cost_function(x, y, w , b))\n",
    "            p_history.append([w,b])\n",
    "        # Print cost every at intervals 10 times or as many iterations if < 10\n",
    "        if i% math.ceil(num_iters/10) == 0:\n",
    "            print(f\"Iteration {i:4}: Cost {J_history[-1]:0.2e} \",\n",
    "                  f\"dj_dw: {dj_dw: 0.3e}, dj_db: {dj_db: 0.3e}  \",\n",
    "                  f\"w: {w: 0.3e}, b:{b: 0.5e}\")\n",
    " \n",
    "    return w, b, J_history, p_history #return w and J,w history for graphing"
   ]
  },
  {
   "cell_type": "code",
   "execution_count": 35,
   "id": "ed246cf4",
   "metadata": {},
   "outputs": [
    {
     "name": "stdout",
     "output_type": "stream",
     "text": [
      "Iteration    0: Cost 1.34e+09  dj_dw: -4.774e+05, dj_db: -7.600e+04   w:  4.774e+03, b: 7.60030e+02\n",
      "Iteration 1000: Cost 1.65e+07  dj_dw:  9.014e+01, dj_db: -6.074e+02   w:  9.875e+03, b: 2.29266e+04\n",
      "Iteration 2000: Cost 1.56e+07  dj_dw:  1.085e+01, dj_db: -7.310e+01   w:  9.501e+03, b: 2.54474e+04\n",
      "Iteration 3000: Cost 1.56e+07  dj_dw:  1.305e+00, dj_db: -8.796e+00   w:  9.456e+03, b: 2.57507e+04\n",
      "Iteration 4000: Cost 1.56e+07  dj_dw:  1.571e-01, dj_db: -1.058e+00   w:  9.451e+03, b: 2.57872e+04\n",
      "Iteration 5000: Cost 1.56e+07  dj_dw:  1.890e-02, dj_db: -1.274e-01   w:  9.450e+03, b: 2.57916e+04\n",
      "Iteration 6000: Cost 1.56e+07  dj_dw:  2.274e-03, dj_db: -1.533e-02   w:  9.450e+03, b: 2.57921e+04\n",
      "Iteration 7000: Cost 1.56e+07  dj_dw:  2.737e-04, dj_db: -1.844e-03   w:  9.450e+03, b: 2.57922e+04\n",
      "Iteration 8000: Cost 1.56e+07  dj_dw:  3.294e-05, dj_db: -2.219e-04   w:  9.450e+03, b: 2.57922e+04\n",
      "Iteration 9000: Cost 1.56e+07  dj_dw:  3.963e-06, dj_db: -2.671e-05   w:  9.450e+03, b: 2.57922e+04\n",
      "(w,b) found by gradient descent: (9449.9623,25792.2002)\n"
     ]
    }
   ],
   "source": [
    "# initialize parameters\n",
    "w_init = 0\n",
    "b_init = 0\n",
    "# some gradient descent settings\n",
    "iterations = 10000\n",
    "tmp_alpha = 1.0e-2\n",
    "# run gradient descent\n",
    "w_final, b_final, J_hist, p_hist = gradient_descent(x_train ,y_train, w_init, b_init, tmp_alpha, \n",
    "                                                    iterations, compute_cost, compute_gradient)\n",
    "print(f\"(w,b) found by gradient descent: ({w_final:8.4f},{b_final:8.4f})\")"
   ]
  },
  {
   "cell_type": "markdown",
   "id": "3833d3d6",
   "metadata": {},
   "source": [
    "## Predictions"
   ]
  },
  {
   "cell_type": "code",
   "execution_count": 36,
   "id": "d9021a53",
   "metadata": {},
   "outputs": [
    {
     "name": "stdout",
     "output_type": "stream",
     "text": [
      "Train Predicted_0 is: 36187.15873955563\n",
      "Train Predicted_1 is: 38077.15120429758\n",
      "Train Predicted_2 is: 39967.143669039535\n",
      "Train Predicted_3 is: 44692.12483089442\n",
      "Train Predicted_4 is: 46582.11729563638\n",
      "Train Predicted_5 is: 53197.09092223323\n",
      "Train Predicted_6 is: 54142.0871546042\n",
      "Train Predicted_7 is: 56032.07961934616\n",
      "Train Predicted_8 is: 56032.07961934616\n",
      "Train Predicted_9 is: 60757.06078120104\n",
      "Train Predicted_10 is: 62647.053245942996\n",
      "Train Predicted_11 is: 63592.04947831397\n",
      "Train Predicted_12 is: 63592.04947831397\n",
      "Train Predicted_13 is: 64537.04571068495\n",
      "Train Predicted_14 is: 68317.03064016886\n",
      "Train Predicted_15 is: 72097.01556965278\n",
      "Train Predicted_16 is: 73987.00803439473\n",
      "Train Predicted_17 is: 75877.00049913669\n",
      "Train Predicted_18 is: 81546.97789336255\n",
      "Train Predicted_19 is: 82491.97412573353\n",
      "Train Predicted_20 is: 90051.94398470136\n",
      "Train Predicted_21 is: 92886.93268181427\n",
      "Train Predicted_22 is: 100446.9025407821\n",
      "Train Predicted_23 is: 103281.89123789503\n",
      "Train Predicted_24 is: 108006.87239974992\n",
      "Train Predicted_25 is: 110841.86109686285\n",
      "Train Predicted_26 is: 115566.84225871775\n",
      "Train Predicted_27 is: 116511.83849108873\n",
      "Train Predicted_28 is: 123126.81211768558\n",
      "Train Predicted_29 is: 125016.80458242752\n"
     ]
    }
   ],
   "source": [
    "m_train = x_train.shape[0]\n",
    "train_predicted = np.zeros(m_train)\n",
    "\n",
    "for i in range(m_train):\n",
    "    train_predicted[i] = w_final * x_train[i] + b_final\n",
    "    print(f'Train Predicted_{i} is: {train_predicted[i]}')"
   ]
  },
  {
   "cell_type": "code",
   "execution_count": 37,
   "id": "45bd05ff",
   "metadata": {},
   "outputs": [
    {
     "data": {
      "text/plain": [
       "Text(0.5, 0, 'YearsExperience')"
      ]
     },
     "execution_count": 37,
     "metadata": {},
     "output_type": "execute_result"
    },
    {
     "data": {
      "image/png": "[encoded data removed]",
      "text/plain": [
       "<Figure size 640x480 with 1 Axes>"
      ]
     },
     "metadata": {},
     "output_type": "display_data"
    }
   ],
   "source": [
    "# Plot the linear fit\n",
    "plt.plot(x_train, train_predicted, c = \"b\")\n",
    "\n",
    "# Create a scatter plot of the data. \n",
    "plt.scatter(x_train, y_train, marker='x', c='r') \n",
    "\n",
    "# Set the title\n",
    "plt.title(\"Salary Prediction\")\n",
    "# Set the y-axis label\n",
    "plt.ylabel('Salary')\n",
    "# Set the x-axis label\n",
    "plt.xlabel('YearsExperience')"
   ]
  },
  {
   "cell_type": "markdown",
   "id": "cfeda02b",
   "metadata": {},
   "source": [
    "### Test Data"
   ]
  },
  {
   "cell_type": "code",
   "execution_count": 26,
   "id": "95ad62e5",
   "metadata": {},
   "outputs": [
    {
     "name": "stdout",
     "output_type": "stream",
     "text": [
      "Test Predicted_0 is: 37132.154971926604\n",
      "Test Predicted_1 is: 40912.13990141051\n",
      "Test Predicted_2 is: 43747.12859852344\n",
      "Test Predicted_3 is: 47527.11352800735\n"
     ]
    }
   ],
   "source": [
    "m_test = x_test.shape[0]\n",
    "test_predicted = np.zeros(m_test)\n",
    "\n",
    "for i in range(m_test):\n",
    "    test_predicted[i] = w_final * x_test[i] + b_final\n",
    "    print(f'Test Predicted_{i} is: {test_predicted[i]}')"
   ]
  }
 ],
 "metadata": {
  "kernelspec": {
   "display_name": "Python 3 (ipykernel)",
   "language": "python",
   "name": "python3"
  },
  "language_info": {
   "codemirror_mode": {
    "name": "ipython",
    "version": 3
   },
   "file_extension": ".py",
   "mimetype": "text/x-python",
   "name": "python",
   "nbconvert_exporter": "python",
   "pygments_lexer": "ipython3",
   "version": "3.9.16"
  }
 },
 "nbformat": 4,
 "nbformat_minor": 5
}
